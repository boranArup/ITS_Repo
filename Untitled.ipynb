{
 "cells": [
  {
   "cell_type": "markdown",
   "id": "76c3789f-d045-4bc4-abeb-f14aacac019b",
   "metadata": {},
   "source": [
    "This is some text"
   ]
  },
  {
   "cell_type": "code",
   "execution_count": 2,
   "id": "d0aadfee-3b02-421a-b206-426a1fbc0c0c",
   "metadata": {},
   "outputs": [
    {
     "data": {
      "text/plain": [
       "18"
      ]
     },
     "execution_count": 2,
     "metadata": {},
     "output_type": "execute_result"
    }
   ],
   "source": [
    "3*6"
   ]
  }
 ],
 "metadata": {
  "kernelspec": {
   "display_name": "Python 3 (ipykernel)",
   "language": "python",
   "name": "python3"
  },
  "language_info": {
   "codemirror_mode": {
    "name": "ipython",
    "version": 3
   },
   "file_extension": ".py",
   "mimetype": "text/x-python",
   "name": "python",
   "nbconvert_exporter": "python",
   "pygments_lexer": "ipython3",
   "version": "3.10.14"
  }
 },
 "nbformat": 4,
 "nbformat_minor": 5
}
